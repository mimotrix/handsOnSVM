{
  "nbformat": 4,
  "nbformat_minor": 0,
  "metadata": {
    "colab": {
      "name": "SVMonMNIST.ipynb",
      "version": "0.3.2",
      "provenance": []
    },
    "language_info": {
      "codemirror_mode": {
        "name": "ipython",
        "version": 3
      },
      "file_extension": ".py",
      "mimetype": "text/x-python",
      "name": "python",
      "nbconvert_exporter": "python",
      "pygments_lexer": "ipython3",
      "version": "3.7.3"
    },
    "kernelspec": {
      "name": "python3",
      "display_name": "Python 3"
    },
    "accelerator": "GPU"
  },
  "cells": [
    {
      "cell_type": "markdown",
      "metadata": {
        "id": "CfQDKTvnZDv3",
        "colab_type": "text"
      },
      "source": [
        "### SVM on MNIST\n",
        "#### By Mimotrixz"
      ]
    },
    {
      "cell_type": "code",
      "metadata": {
        "id": "MC3k8QprZDv5",
        "colab_type": "code",
        "colab": {}
      },
      "source": [
        "import matplotlib.pyplot as plt\n",
        "import numpy as np\n",
        "import time\n",
        "import datetime as dt\n",
        "from sklearn import datasets, svm, metrics\n",
        "from sklearn.datasets import fetch_mldata\n",
        "from matplotlib.colors import Normalize"
      ],
      "execution_count": 0,
      "outputs": []
    },
    {
      "cell_type": "markdown",
      "metadata": {
        "id": "Rxqyd9t3ZDv7",
        "colab_type": "text"
      },
      "source": [
        "#### Read Dataset "
      ]
    },
    {
      "cell_type": "code",
      "metadata": {
        "id": "6nqXNiiRZDv8",
        "colab_type": "code",
        "outputId": "2e1eae75-2767-49f7-e6a4-894ad5eac76f",
        "colab": {
          "base_uri": "https://localhost:8080/",
          "height": 34
        }
      },
      "source": [
        "import warnings\n",
        "warnings.filterwarnings(\"ignore\")\n",
        "mnist = fetch_mldata('MNIST original', data_home='./')\n",
        "mnist.keys()"
      ],
      "execution_count": 0,
      "outputs": [
        {
          "output_type": "execute_result",
          "data": {
            "text/plain": [
              "dict_keys(['DESCR', 'COL_NAMES', 'target', 'data'])"
            ]
          },
          "metadata": {
            "tags": []
          },
          "execution_count": 2
        }
      ]
    },
    {
      "cell_type": "code",
      "metadata": {
        "id": "iOhwxjRMZDwA",
        "colab_type": "code",
        "outputId": "8764c681-4335-4d68-bbf8-050e750993ec",
        "colab": {
          "base_uri": "https://localhost:8080/",
          "height": 403
        }
      },
      "source": [
        "images = mnist.data\n",
        "targets = mnist.target\n",
        "\n",
        "def show_some_digits(images, targets, sample_size=24, title_text='Digit {}' ):\n",
        "    nsamples=sample_size\n",
        "    rand_idx = np.random.choice(images.shape[0],nsamples)\n",
        "    images_and_labels = list(zip(images[rand_idx], targets[rand_idx]))\n",
        "    img = plt.figure(1, figsize=(15, 12), dpi=160)\n",
        "    for index, (image, label) in enumerate(images_and_labels):\n",
        "        plt.subplot(np.ceil(nsamples/6.0), 6, index + 1)\n",
        "        plt.axis('off')\n",
        "        #each image is flat, we have to reshape to 2D array 28x28-784\n",
        "        plt.imshow(image.reshape(28,28), cmap=plt.cm.gray_r, interpolation='nearest')\n",
        "        plt.title(title_text.format(label))\n",
        "    plt.show()\n",
        "\n",
        "show_some_digits(images,targets,5)"
      ],
      "execution_count": 0,
      "outputs": [
        {
          "output_type": "display_data",
          "data": {
            "image/png": "[encoded data removed]",
            "text/plain": [
              "<Figure size 2400x1920 with 5 Axes>"
            ]
          },
          "metadata": {
            "tags": []
          }
        }
      ]
    },
    {
      "cell_type": "markdown",
      "metadata": {
        "id": "haQokNuyZDwF",
        "colab_type": "text"
      },
      "source": [
        "#### Selecting 2 and 7 lables"
      ]
    },
    {
      "cell_type": "code",
      "metadata": {
        "id": "gVh8kvlXZDwG",
        "colab_type": "code",
        "outputId": "a55e65c6-c1a9-436b-878d-d0e2900389bb",
        "colab": {
          "base_uri": "https://localhost:8080/",
          "height": 34
        }
      },
      "source": [
        "twos = []\n",
        "sevens = []\n",
        "for items in range(len(targets)):\n",
        "    if targets[items] == 2.0:\n",
        "        twos.append(items)\n",
        "    if targets[items] == 7.0:\n",
        "        sevens.append(items)\n",
        "all_needed_data = twos+sevens\n",
        "\n",
        "train_data = []\n",
        "train_label = []\n",
        "for items in all_needed_data:\n",
        "    train_data.append(images[items])\n",
        "    train_label.append(targets[items])\n",
        "    \n",
        "print(len(train_data), len(train_label))"
      ],
      "execution_count": 0,
      "outputs": [
        {
          "output_type": "stream",
          "text": [
            "14283 14283\n"
          ],
          "name": "stdout"
        }
      ]
    },
    {
      "cell_type": "markdown",
      "metadata": {
        "id": "NIomEOv5ZDwJ",
        "colab_type": "text"
      },
      "source": [
        "#### Splitting data"
      ]
    },
    {
      "cell_type": "code",
      "metadata": {
        "id": "bB--uVHbZDwK",
        "colab_type": "code",
        "colab": {}
      },
      "source": [
        "from sklearn.model_selection import train_test_split\n",
        "from sklearn.model_selection import cross_val_score\n",
        "from sklearn.preprocessing import MinMaxScaler\n",
        "\n",
        "# we keep 30% random examples for test\n",
        "X_train, X_test, y_train, y_test = train_test_split(train_data,\n",
        "train_label, test_size=0.3, random_state=101)\n",
        "\n",
        "# we scale the data in the range [-1,1]\n",
        "scaling = MinMaxScaler(feature_range=(-1, 1)).fit(X_train)\n",
        "X_train = scaling.transform(X_train)\n",
        "X_test = scaling.transform(X_test)\n",
        "\n"
      ],
      "execution_count": 0,
      "outputs": []
    },
    {
      "cell_type": "markdown",
      "metadata": {
        "id": "5XOE0vLOZDwM",
        "colab_type": "text"
      },
      "source": [
        "#### Implementing HardMargin SVM"
      ]
    },
    {
      "cell_type": "code",
      "metadata": {
        "id": "Ovmr0rKcZDwN",
        "colab_type": "code",
        "outputId": "6b4b580d-80b2-489a-b66f-65bcac614ed1",
        "colab": {
          "base_uri": "https://localhost:8080/",
          "height": 34
        }
      },
      "source": [
        "# from sklearn.svm import SVC\n",
        "# svm = SVC(C = 0.1,kernel=\"rbf\",gamma =1.5,shrinking=False,cache_size=3000)\n",
        "# cv_performance = cross_val_score(svm, X_train, y_train,\n",
        "# cv=5)\n",
        "# test_performance = svm.fit(X_train, y_train).score(X_test,\n",
        "# y_test)\n",
        "\n",
        "# print ('Cross-validation accuracy score: %0.3f,'\n",
        "# ' test accuracy score: %0.3f'% (np.mean(cv_performance),test_performance))\n",
        "\n",
        "from sklearn.svm import SVC\n",
        "svm = SVC(C=0.1)\n",
        "cv_performance = cross_val_score(svm, X_train, y_train,\n",
        "cv=5)\n",
        "test_performance = svm.fit(X_train, y_train).score(X_test,\n",
        "y_test)\n",
        "\n",
        "print ('Cross-validation accuracy score: %0.3f,'\n",
        "' test accuracy score: %0.3f'% (np.mean(cv_performance),test_performance))"
      ],
      "execution_count": 0,
      "outputs": [
        {
          "output_type": "stream",
          "text": [
            "Cross-validation accuracy score: 0.983, test accuracy score: 0.986\n"
          ],
          "name": "stdout"
        }
      ]
    },
    {
      "cell_type": "markdown",
      "metadata": {
        "id": "LZzyHro5ZDwP",
        "colab_type": "text"
      },
      "source": [
        "#### Implementing SoftMargin SVM with Cross Validation"
      ]
    },
    {
      "cell_type": "code",
      "metadata": {
        "id": "E-6twpCUZDwQ",
        "colab_type": "code",
        "outputId": "0d8ae4e2-65d4-43b1-c372-af404b661a00",
        "colab": {
          "base_uri": "https://localhost:8080/",
          "height": 34
        }
      },
      "source": [
        "from sklearn.svm import SVC\n",
        "svm = SVC()\n",
        "cv_performance = cross_val_score(svm, X_train, y_train,\n",
        "cv=5)\n",
        "test_performance = svm.fit(X_train, y_train).score(X_test,\n",
        "y_test)\n",
        "\n",
        "print ('Cross-validation accuracy score: %0.3f,'\n",
        "' test accuracy score: %0.3f'% (np.mean(cv_performance),test_performance))"
      ],
      "execution_count": 0,
      "outputs": [
        {
          "output_type": "stream",
          "text": [
            "Cross-validation accuracy score: 0.990, test accuracy score: 0.990\n"
          ],
          "name": "stdout"
        }
      ]
    },
    {
      "cell_type": "code",
      "metadata": {
        "id": "kRhhJTKJaLQD",
        "colab_type": "code",
        "outputId": "9620d423-35cc-4156-8c3b-44159db3d62f",
        "colab": {
          "base_uri": "https://localhost:8080/",
          "height": 269
        }
      },
      "source": [
        ""
      ],
      "execution_count": 0,
      "outputs": [
        {
          "output_type": "display_data",
          "data": {
            "image/png": "[encoded data removed]",
            "text/plain": [
              "<Figure size 432x288 with 1 Axes>"
            ]
          },
          "metadata": {
            "tags": []
          }
        }
      ]
    },
    {
      "cell_type": "code",
      "metadata": {
        "id": "QikGATe0ZlNH",
        "colab_type": "code",
        "outputId": "84724ef7-08ac-4819-a1da-59f3e7dffea5",
        "colab": {
          "base_uri": "https://localhost:8080/",
          "height": 187
        }
      },
      "source": [
        "from sklearn.model_selection import GridSearchCV\n",
        "from sklearn.svm import SVC\n",
        "\n",
        "param_grid = {'C': [0.1, 1, 10, 100], 'gamma': [1, 0.1, 0.01, 0.001, 0.00001, 10]}\n",
        " \n",
        "# Make grid search classifier\n",
        "clf_grid = GridSearchCV(SVC(), param_grid, verbose=1)\n",
        " \n",
        "# Train the classifier\n",
        "clf_grid.fit(X_train, y_train)\n",
        " \n",
        "# clf = grid.best_estimator_()\n",
        "print(\"Best Parameters:\\n\", clf_grid.best_params_)\n",
        "print(\"Best Estimators:\\n\", clf_grid.best_estimator_)"
      ],
      "execution_count": 0,
      "outputs": [
        {
          "output_type": "stream",
          "text": [
            "Fitting 3 folds for each of 24 candidates, totalling 72 fits\n"
          ],
          "name": "stdout"
        },
        {
          "output_type": "stream",
          "text": [
            "[Parallel(n_jobs=1)]: Using backend SequentialBackend with 1 concurrent workers.\n",
            "[Parallel(n_jobs=1)]: Done  72 out of  72 | elapsed: 109.1min finished\n"
          ],
          "name": "stderr"
        },
        {
          "output_type": "stream",
          "text": [
            "Best Parameters:\n",
            " {'C': 10, 'gamma': 0.01}\n",
            "Best Estimators:\n",
            " SVC(C=10, cache_size=200, class_weight=None, coef0=0.0,\n",
            "  decision_function_shape='ovr', degree=3, gamma=0.01, kernel='rbf',\n",
            "  max_iter=-1, probability=False, random_state=None, shrinking=True,\n",
            "  tol=0.001, verbose=False)\n"
          ],
          "name": "stdout"
        }
      ]
    }
  ]
}